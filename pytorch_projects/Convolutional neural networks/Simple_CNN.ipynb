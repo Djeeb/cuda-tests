{
 "cells": [
  {
   "cell_type": "markdown",
   "metadata": {},
   "source": [
    "# <center>Simple convolutional neural network with Pytorch</center>"
   ]
  },
  {
   "cell_type": "markdown",
   "metadata": {},
   "source": [
    ">*Convolutional networks are simply neural networks that use convolution in place of general matrix multiplication in at least one of their layers.*\n",
    "\n",
    "__Deep Learning__, I. Goodfellow & al."
   ]
  },
  {
   "cell_type": "markdown",
   "metadata": {},
   "source": [
    "Our aim in this section is to use multiple methods introduced by CNN in order to outperform simple fully connected neural networks. We will first describe each method and explain the motivation behind. Then, we will train a model using all these methods and compare it to simple neural networks. \n",
    "\n",
    "Note : we will mostly use __Deep Learning__, I. Goodfellow & al."
   ]
  },
  {
   "cell_type": "markdown",
   "metadata": {},
   "source": [
    "<a name=\"table\"></a>\n",
    "- **I- [The convolution operator simplifies the network](#convolution)**\n",
    "\t- 1- [Principle of convolution](#principle_conv)\n",
    "\t- 2- [Motivation behind convolution](#motivation_conv)\n",
    " - **II- [Pooling to improve statistic robustness](#pooling)**\n",
    "\t- 1- [What is pooling ?](#what_pool)\n",
    "\t- 2- [Different ways of pooling](#diff_pool)\n",
    "    - 3- [Pooling is useful for object detection](#detect_pool)\n",
    " - **III- [Batch normalization to reduce internal covariate shift](#batch)**\n",
    "\t- 1- [What is pooling ?](#what_pool)"
   ]
  },
  {
   "cell_type": "markdown",
   "metadata": {},
   "source": [
    "<a name=\"convolution\"></a>\n",
    "# I- The convolution operator simplifies the network"
   ]
  },
  {
   "cell_type": "markdown",
   "metadata": {},
   "source": [
    "<a name=\"principle_conv\"></a>\n",
    "## 1. Principle of convolution"
   ]
  },
  {
   "cell_type": "markdown",
   "metadata": {},
   "source": [
    "Convolution is a bilinear operation between two functions $ f $ and $ g $  that share the same domain $ \\mathcal{D} $ :"
   ]
  },
  {
   "cell_type": "markdown",
   "metadata": {},
   "source": [
    "## $$ (f,g) \\mapsto f*g $$ \n",
    "\n",
    "## $$ \\forall x \\in \\mathcal{D}\\:\\: (f*g)(x)\\: = \\int f(t)g(x-t)dt $$"
   ]
  },
  {
   "cell_type": "markdown",
   "metadata": {},
   "source": [
    "In mathematics, this operation is generalizing the concept of *moving average*. Indeed, it can been seen as a weighted average of function $f$ where $g$ plays the role of the weight function. \n",
    "\n",
    "In the case of CNN, if we consider that our data is a bit noisy, the idea is to create a weighted average of an input in order to smooth the output and therefore reduce the impact of the noise. Of course, we have a limited amount of features and we work in a discrete space. For a two dimensional image $X$, and a two-dimensional weight $W$ of size $(m \\times n)$ the convolution operation consists in : "
   ]
  },
  {
   "cell_type": "markdown",
   "metadata": {},
   "source": [
    "## $$ (X*W)_{(i,j)} = \\sum_{m} \\sum_{n} X_{(m,n)}W_{(i-m,j-n)} $$"
   ]
  },
  {
   "cell_type": "markdown",
   "metadata": {},
   "source": [
    "- $X$ is called the **input**\n",
    "- $W$ is called the **kernel**\n",
    "- the result is called the **feature map**"
   ]
  },
  {
   "cell_type": "markdown",
   "metadata": {},
   "source": [
    "Here is an example of a 2-convolution. The output is calculated in positions where the kernel *fits* inside the input (it is called a *valid* convolution). In this case, the kernel has always only 4 non-zero parameters, which is why we can graphically and computationnaly represent it as a $4 \\times 4$ matrix :"
   ]
  },
  {
   "cell_type": "markdown",
   "metadata": {},
   "source": [
    "![](https://www.d2l.ai/_images/conv-pad.svg)"
   ]
  },
  {
   "cell_type": "markdown",
   "metadata": {},
   "source": [
    "<a name=\"motivation_conv\"></a>\n",
    "## 2. Motivation behind convolution"
   ]
  },
  {
   "cell_type": "markdown",
   "metadata": {},
   "source": [
    "Convolution operation has dramatically changed the way we design neural networks for 3 main reasons : models are **faster**, require **less memory**, and are more able to **detect patterns** in images and time series. "
   ]
  },
  {
   "cell_type": "markdown",
   "metadata": {},
   "source": [
    "### - Sparse interactions :"
   ]
  },
  {
   "cell_type": "markdown",
   "metadata": {},
   "source": [
    "Instead of creating fully connected nodes, convolution sets up a new neural architecture based on sparse interactions : only a **limited amount of input nodes is linked with an output node**. In the case of an image processing, it is useful as it can be seen as a *feature detection* such as edges, etc. Above all, it drastically decreases the number of operations to compute and therefore the model training converges more easily. The **complexity** of the algorithm is clearly decreased. \n",
    "\n",
    "For example, let say our input size is $n$ and output size $m$. In a fully connected neural network, the parameter $W$ size would be $n \\times m$ while we can limit the number of interactions in a CNN and create a parameter $W'$ of size $k \\times m$ with $k << n$. In terms of complexity, we have : \n",
    "\n",
    "- $\\mathcal{O}(n \\times m)$ for fully connected NN\n",
    "- $\\mathcal{O}(k \\times m)$ for CNN\n",
    "\n",
    "Below is a drawing of sparse connected layers vs fully connected layers. As we can see, only a few inputs are used to compute $s_{3}$ : "
   ]
  },
  {
   "cell_type": "markdown",
   "metadata": {},
   "source": [
    "![](https://miro.medium.com/max/468/1*jkhJotQX3uz-Ja7QDOKQBg.png)"
   ]
  },
  {
   "cell_type": "markdown",
   "metadata": {},
   "source": [
    "### - Parameter sharing :"
   ]
  },
  {
   "cell_type": "markdown",
   "metadata": {},
   "source": [
    "During a forward propagation of an input in a fully layer, an element of the weight matrix is used only once, while it is used multiple times in a CNN. In the example above (see *Principle of convolution*) each parameter is used 16 times (i.e. the dimension of the output). We call them **tied parameters**. It does not affect the computation time but it helps reducing the memory needed to store weights during the execution of the learning task. So, if we keep the same notations as before, we already said we only needed a $k \\times n$ weight matrix. Actually, we can go deeper as the parameters used are the same during the $m$ computations : \n",
    "\n",
    "- $W \\in \\mathbb{R}^{n \\times m}$ for fully connected NN\n",
    "- $W' \\in \\mathbb{R}^{k}$ for CNN\n",
    "\n",
    "Of course, $k << n \\times m$ in practice. \n"
   ]
  },
  {
   "cell_type": "markdown",
   "metadata": {},
   "source": [
    "### - Equivariance :"
   ]
  },
  {
   "cell_type": "markdown",
   "metadata": {},
   "source": [
    "Mathematically, the term of equivariance is used when the order of the application of two functions does not affect the result. Given an input $x$ : "
   ]
  },
  {
   "cell_type": "markdown",
   "metadata": {},
   "source": [
    "## $$ f \\circ  g (x) = g \\circ  f (x) $$"
   ]
  },
  {
   "cell_type": "markdown",
   "metadata": {},
   "source": [
    "In the case of CNN, layers have a more specific property : **equivariance to translation**. It means that no matter if you shift an image or a time serie before or after the convolution process, the result will be the same. However it is not the case for rotation or scaling. It enables features and patterns detection : edges that looks the same in an image, trends that are similar in a time serie, will be roughly processed in the same way. "
   ]
  },
  {
   "cell_type": "markdown",
   "metadata": {},
   "source": [
    "<a name=\"pooling\"></a>\n",
    "# II- Pooling to improve statistic robustness "
   ]
  },
  {
   "cell_type": "markdown",
   "metadata": {},
   "source": [
    "<a name=\"what_pool\"></a>\n",
    "## 1. What is pooling ?"
   ]
  },
  {
   "cell_type": "markdown",
   "metadata": {},
   "source": [
    "Pooling consists in **summing-up** information contained in the input by reducing its size. When it is well used, it creates **statistical robustness** and help to make **data smaller** before being processed again. Below is a max pooling over the 4 parts of an input : "
   ]
  },
  {
   "cell_type": "markdown",
   "metadata": {},
   "source": [
    "![](https://www.datascience.com/hs-fs/hubfs/CNN%204.png?width=600&name=CNN%204.png)"
   ]
  },
  {
   "cell_type": "markdown",
   "metadata": {},
   "source": [
    "In image processing, if the goal of the learning task is to detect whether there is a specific object or not (rather than its specific location on an image), pooling is very useful as it is **invariant to small translations**. Using pooling makes the assumption that the function we want to approximate is quite invariante to small shifts :"
   ]
  },
  {
   "cell_type": "markdown",
   "metadata": {},
   "source": [
    "![](../data/images/pooling_drawing.png)"
   ]
  },
  {
   "cell_type": "markdown",
   "metadata": {},
   "source": [
    "As we can see in the drawing above, even if all the input have moved to the right in the bottom example, the output remains quite the same. "
   ]
  },
  {
   "cell_type": "markdown",
   "metadata": {},
   "source": [
    "<a name=\"diff_pool\"></a>\n",
    "## 2. Different ways of pooling"
   ]
  },
  {
   "cell_type": "markdown",
   "metadata": {},
   "source": [
    "### - The choice of the operator :"
   ]
  },
  {
   "cell_type": "markdown",
   "metadata": {},
   "source": [
    "Many operations can help to reduce the size of the input while summing up information. Here are the main ones :\n",
    "\n",
    "- average pooling : it consists in computing the average value of a $k \\times k$ kernel\n",
    "- max pooling : it consists in computing the maximum value of a $k \\times k$ kernel\n",
    "- min pooling : it consists in computing the minimum value of a $k \\times k$ kernel\n",
    "\n",
    "You can see below an example of these methods applied on a MNIST sample. A $2 \\times 2$ filter has been used, stride size is exactly 2 and we didn't use padding (see next section) :"
   ]
  },
  {
   "cell_type": "markdown",
   "metadata": {},
   "source": [
    "![](../data/images/pooling.png)"
   ]
  },
  {
   "cell_type": "markdown",
   "metadata": {},
   "source": [
    "### - kernel size, stride, padding  :"
   ]
  },
  {
   "cell_type": "markdown",
   "metadata": {},
   "source": [
    "For both pooling and convolution operators, the **kernel size** will determine the size of the feature detected by the layer. Padding consists in giving importance to the edges of an image by including these pixels to more operations. As you can see below, by adjusting the **padding**, one can keep the same size as the original image while increasing the kernel size : "
   ]
  },
  {
   "cell_type": "markdown",
   "metadata": {},
   "source": [
    "![](../data/images/size.png)\n",
    "*note : max pooling has been used*"
   ]
  },
  {
   "cell_type": "markdown",
   "metadata": {},
   "source": [
    "**Stride** has also effects on the behaviour of the kernel and the output size. A stride of 2 means that each time the kernel is applied, it moves two values to the right, and two to the bottom when it ends a line. The effect on the input is called **downsampling** : we reduce the amount of information by summing it up. Below is the simplest downsample one can do : each stride value, we keep a pixel and discard the others : "
   ]
  },
  {
   "cell_type": "markdown",
   "metadata": {},
   "source": [
    "![](../data/images/stride.png)\n",
    "*note : no operator has been used*"
   ]
  },
  {
   "cell_type": "markdown",
   "metadata": {},
   "source": [
    "<a name=\"detect_pool\"></a>\n",
    "## 3. Pooling is useful for object detection"
   ]
  },
  {
   "cell_type": "markdown",
   "metadata": {},
   "source": [
    "As we said, pooling helps to make the object we want to detect in an image **invariant** to small translation :\n",
    "\n",
    ">*The use of pooling can be viewed as adding an infinitely strong prior that\n",
    "the function the layer learns must be invariant to small translations. When this\n",
    "assumption is correct, it can greatly improve the statistical efficiency of the network.*\n",
    "\n",
    "__Deep Learning__, I. Goodfellow & al.\n",
    "\n",
    "In the case of MNIST, it is very useful as we can see the different types of writing a same figure as a minor translation of this given figure. Pooling helps to harmonize this input before being processed in the next layer. Below you can see a huge downsampling (size goes from 784 to 81) that preserves the shape of the object and harmonize it regarding the other with the same label :"
   ]
  },
  {
   "cell_type": "markdown",
   "metadata": {},
   "source": [
    "![](../data/images/downsampling.png)\n",
    "*note : max pooling has been used*"
   ]
  },
  {
   "cell_type": "markdown",
   "metadata": {},
   "source": [
    "<a name=\"batch\"></a>\n",
    "# III- Batch normalization to reduce internal covariate shift"
   ]
  },
  {
   "cell_type": "markdown",
   "metadata": {},
   "source": [
    "When we design deeper neural networks, forward / back-propagation can become tricky as gradients of the whole model are computed at the same time. Thus, by updating the weights, the update might not be accurate and can even cause exploding / vanishing gradients after a few iterations. This is called **internal covariate shift** and the recent method of **batch normalization** published in [Ioffe, Szegedy, 2015](https://arxiv.org/pdf/1502.03167.pdf) can deal with that. "
   ]
  },
  {
   "cell_type": "markdown",
   "metadata": {},
   "source": [
    "<a name=\"covariate\"></a>\n",
    "## 1. The problem of internal covariate shift"
   ]
  },
  {
   "cell_type": "markdown",
   "metadata": {},
   "source": [
    ">*Training Deep Neural Networks is complicated by the fact\n",
    "that the distribution of each layer’s inputs changes during\n",
    "training, as the parameters of the previous layers change.\n",
    "This slows down the training by requiring lower learning\n",
    "rates and careful parameter initialization, and makes it notoriously hard to train models with saturating nonlinearities. We refer to this phenomenon as internal covariate\n",
    "shift*\n",
    "\n",
    "[Ioffe, Szegedy, 2015](https://arxiv.org/pdf/1502.03167.pdf)\n"
   ]
  },
  {
   "cell_type": "markdown",
   "metadata": {},
   "source": [
    "To explain how each update can affect the accuracy of the model, let see a simple example of a simplified $l$-layers neural network that has no activation function and only one unit per layer. Given a dataset $\\mathcal{X}$ : "
   ]
  },
  {
   "cell_type": "markdown",
   "metadata": {},
   "source": [
    "## $$ \\forall x \\in \\mathcal{X}, \\:\\: \\hat{y} = xw_{1}w_{2}...w_{l} $$"
   ]
  },
  {
   "cell_type": "code",
   "execution_count": null,
   "metadata": {},
   "outputs": [],
   "source": []
  },
  {
   "cell_type": "code",
   "execution_count": null,
   "metadata": {},
   "outputs": [],
   "source": []
  },
  {
   "cell_type": "code",
   "execution_count": 37,
   "metadata": {},
   "outputs": [
    {
     "data": {
      "image/png": "[encoded data removed]",
      "text/plain": [
       "<Figure size 864x576 with 4 Axes>"
      ]
     },
     "metadata": {},
     "output_type": "display_data"
    }
   ],
   "source": [
    "X = X_train[0]\n",
    "\n",
    "X_1 = nn.AvgPool2d(kernel_size=1, stride=2, padding=0)(X)\n",
    "\n",
    "X_2 = nn.MaxPool2d(kernel_size=2, stride=2, padding=0)(X)\n",
    "\n",
    "X_3 = -nn.MaxPool2d(kernel_size=2, stride=2, padding=0)(-X)\n",
    "\n",
    "fig=plt.figure(figsize=(12, 8))\n",
    "fig.add_subplot(2,2,1)\n",
    "plt.imshow(-X[0])\n",
    "plt.title(\"original\")\n",
    "fig.add_subplot(2,2,2)\n",
    "plt.imshow(-X_1[0])\n",
    "plt.title(\"mean pooling\")\n",
    "fig.add_subplot(2,2,3)\n",
    "plt.imshow(-X_2[0])\n",
    "plt.title(\"max pooling\")\n",
    "fig.add_subplot(2,2,4)\n",
    "plt.imshow(-X_3[0])\n",
    "plt.title(\"min pooling\")\n",
    "\n",
    "\n",
    "plt.show()"
   ]
  },
  {
   "cell_type": "code",
   "execution_count": 76,
   "metadata": {},
   "outputs": [
    {
     "data": {
      "image/png": "[encoded data removed]",
      "text/plain": [
       "<Figure size 864x576 with 6 Axes>"
      ]
     },
     "metadata": {},
     "output_type": "display_data"
    }
   ],
   "source": [
    "X = X_train[1]\n",
    "Y = X_train[37]\n",
    "Z = X_train[21]\n",
    "\n",
    "X_1 = nn.MaxPool2d(kernel_size=3, stride=3, padding=0)(X)\n",
    "\n",
    "X_2 = nn.MaxPool2d(kernel_size=3, stride=3, padding=0)(Y)\n",
    "\n",
    "X_3 = nn.MaxPool2d(kernel_size=3, stride=3, padding=0)(Z)\n",
    "\n",
    "fig=plt.figure(figsize=(12, 8))\n",
    "fig.add_subplot(3,2,1)\n",
    "plt.imshow(-X[0])\n",
    "plt.title(\"original\")\n",
    "fig.add_subplot(3,2,2)\n",
    "plt.imshow(-X_1[0])\n",
    "plt.title(\"kernel_size=3, stride=3, padding=0\")\n",
    "fig.add_subplot(3,2,3)\n",
    "plt.imshow(-Y[0])\n",
    "fig.add_subplot(3,2,4)\n",
    "plt.imshow(-X_2[0])\n",
    "fig.add_subplot(3,2,5)\n",
    "plt.imshow(-Z[0])\n",
    "fig.add_subplot(3,2,6)\n",
    "plt.imshow(-X_3[0])\n",
    "\n",
    "\n",
    "plt.show()"
   ]
  },
  {
   "cell_type": "code",
   "execution_count": 79,
   "metadata": {},
   "outputs": [
    {
     "data": {
      "text/plain": [
       "torch.Size([1, 9, 9])"
      ]
     },
     "execution_count": 79,
     "metadata": {},
     "output_type": "execute_result"
    }
   ],
   "source": [
    "X_1.shape"
   ]
  },
  {
   "cell_type": "markdown",
   "metadata": {},
   "source": [
    "# III- Creating and training a CNN model on MNIST"
   ]
  },
  {
   "cell_type": "markdown",
   "metadata": {},
   "source": [
    "##### Import Pytorch and other useful librairies"
   ]
  },
  {
   "cell_type": "code",
   "execution_count": 1,
   "metadata": {},
   "outputs": [],
   "source": [
    "from matplotlib import pyplot as plt\n",
    "plt.gray()\n",
    "import math\n",
    "import numpy as np\n",
    "import pandas as pd\n",
    "\n",
    "import torch\n",
    "import torchvision.datasets as datasets\n",
    "import torch.nn.functional as F\n",
    "from torch import nn\n",
    "from torch import optim"
   ]
  },
  {
   "cell_type": "code",
   "execution_count": 2,
   "metadata": {},
   "outputs": [],
   "source": [
    "loss_func = F.cross_entropy\n",
    "\n",
    "def accuracy(Y_hat, Y):\n",
    "    preds = torch.argmax(Y_hat, dim=1)\n",
    "    return (preds == Y).float().mean()"
   ]
  },
  {
   "cell_type": "markdown",
   "metadata": {},
   "source": [
    "##### Load and preprocess dataset"
   ]
  },
  {
   "cell_type": "code",
   "execution_count": 3,
   "metadata": {},
   "outputs": [
    {
     "name": "stdout",
     "output_type": "stream",
     "text": [
      "Train examples :  60000\n",
      "Test examples :  10000\n",
      "Nb of features :  1\n"
     ]
    }
   ],
   "source": [
    "#import data\n",
    "mnist_trainset = datasets.MNIST(root='../data', train=True, download=True, transform=None)\n",
    "mnist_testset = datasets.MNIST(root='../data', train=False, download=True, transform=None)\n",
    "\n",
    "#load trainset into tensors\n",
    "train_loader = torch.utils.data.DataLoader(mnist_trainset, batch_size=1, shuffle=True)\n",
    "X_train = train_loader.dataset.data\n",
    "Y_train = train_loader.dataset.targets\n",
    "\n",
    "#load testset into tensors\n",
    "test_loader = torch.utils.data.DataLoader(mnist_testset, batch_size=10000, shuffle=False)\n",
    "X_test = test_loader.dataset.data\n",
    "Y_test = test_loader.dataset.targets\n",
    "\n",
    "#scale data to [0:1] and convert to float32\n",
    "X_train = (X_train.to(dtype=torch.float32) / X_train.max().to(dtype=torch.float32))\n",
    "X_test = (X_test.to(dtype=torch.float32) / X_test.max().to(dtype=torch.float32))\n",
    "\n",
    "#Flatten train and test data\n",
    "X_train = X_train.reshape(X_train.shape[0],1,28,28)\n",
    "X_test = X_test.reshape(X_test.shape[0],1,28,28)\n",
    "\n",
    "print(\"Train examples : \",X_train.shape[0])\n",
    "print(\"Test examples : \",X_test.shape[0])\n",
    "print(\"Nb of features : \",X_train.shape[1])"
   ]
  },
  {
   "cell_type": "markdown",
   "metadata": {},
   "source": [
    "##### Define the CNN architecture"
   ]
  },
  {
   "cell_type": "code",
   "execution_count": 96,
   "metadata": {},
   "outputs": [],
   "source": [
    "class NeuralNet(nn.Module):\n",
    "    \n",
    "    def __init__(self):\n",
    "        super().__init__()\n",
    "        self.conv1 = nn.Conv2d(1, 24, kernel_size=5, stride=1, padding=2)\n",
    "        self.max1 = nn.MaxPool2d(kernel_size=2, stride=2, padding=0)\n",
    "        self.bn1 = nn.BatchNorm2d(24)\n",
    "        self.conv2 = nn.Conv2d(24, 48, kernel_size=5, stride=1, padding=2)\n",
    "        self.max2 = nn.MaxPool2d(kernel_size=2, stride=2, padding=0)\n",
    "        self.bn2 = nn.BatchNorm2d(48)\n",
    "        self.conv3 = nn.Conv2d(48, 64, kernel_size=5, stride=1, padding=2)\n",
    "        self.max3 = nn.MaxPool2d(kernel_size=2, stride=2, padding=0)\n",
    "        self.bn3 = nn.BatchNorm2d(64)\n",
    "        self.linear4 = nn.Linear(64*3*3,256)\n",
    "        self.bn4 = nn.BatchNorm1d(256)\n",
    "        self.linear5 = nn.Linear(256,10)\n",
    " \n",
    "    def forward(self, x):\n",
    "        #print(\"--------FORWARD---------\")\n",
    "        x = torch.relu(self.conv1(x))\n",
    "        #print(\"conv1 :\" , x.shape)\n",
    "        x = self.max1(x)\n",
    "        x = self.bn1(x)\n",
    "        #print(\"max1 :\" , x.shape)\n",
    "        x = torch.relu(self.conv2(x))\n",
    "        #print(\"conv2 :\" , x.shape)\n",
    "        x = self.max2(x)\n",
    "        x = self.bn2(x)\n",
    "        #print(\"max2 :\" , x.shape)\n",
    "        x = torch.relu(self.conv3(x))\n",
    "        #print(\"conv3 :\" , x.shape)\n",
    "        x = self.max3(x)\n",
    "        x = self.bn3(x)\n",
    "        #print(\"max3 :\" , x.shape)\n",
    "        x = self.linear4(torch.relu(x.reshape(x.shape[0],-1)))\n",
    "        #print(\"linear4 :\" , x.shape)\n",
    "        x = self.bn4(x)\n",
    "        x = self.linear5(torch.softmax(x,1))\n",
    "        #print(\"linear5 :\" , x.shape)\n",
    "        return x\n",
    "                            \n",
    "                            \n",
    "    def fit(self,optimizer,epochs,batch_size,lr,decay):\n",
    "        n = X_train.shape[0]\n",
    "        for epoch in range(epochs):\n",
    "            #opt.param_groups[0]['lr'] = lr / (1+decay)\n",
    "                           \n",
    "            model.train()\n",
    "            for i in range((n - 1) // batch_size + 1):\n",
    "                optimizer.zero_grad()\n",
    "                \n",
    "                X = X_train[ i * batch_size : (i+1) * batch_size ]\n",
    "                Y = Y_train[ i * batch_size : (i+1) * batch_size ]\n",
    "                \n",
    "                pred = self.forward( X )\n",
    "                loss = loss_func( pred , Y )\n",
    "\n",
    "                loss.backward()\n",
    "                optimizer.step()\n",
    "                \n",
    "            print(epoch+1,\"\\t\",loss.item())\n",
    "            \n",
    "            \n",
    "            with torch.no_grad():\n",
    "                model.eval()\n",
    "                print(\"Test set \\t\", round(accuracy( model.forward(X_test) , Y_test).item(),3))"
   ]
  },
  {
   "cell_type": "code",
   "execution_count": 97,
   "metadata": {},
   "outputs": [],
   "source": [
    "model = NeuralNet()"
   ]
  },
  {
   "cell_type": "code",
   "execution_count": 98,
   "metadata": {},
   "outputs": [
    {
     "name": "stdout",
     "output_type": "stream",
     "text": [
      "1 \t 0.08516699075698853\n",
      "Test set \t 0.975\n",
      "2 \t 0.04562624916434288\n",
      "Test set \t 0.984\n",
      "3 \t 0.032392021268606186\n",
      "Test set \t 0.988\n",
      "4 \t 0.028965575620532036\n",
      "Test set \t 0.987\n",
      "5 \t 0.02674502693116665\n",
      "Test set \t 0.988\n",
      "6 \t 0.02047395147383213\n",
      "Test set \t 0.99\n",
      "7 \t 0.023352866992354393\n",
      "Test set \t 0.989\n",
      "8 \t 0.025886444374918938\n",
      "Test set \t 0.99\n",
      "9 \t 0.027795525267720222\n",
      "Test set \t 0.99\n",
      "10 \t 0.022772518917918205\n",
      "Test set \t 0.987\n",
      "11 \t 0.0373346172273159\n",
      "Test set \t 0.985\n",
      "12 \t 0.016209373250603676\n",
      "Test set \t 0.992\n",
      "13 \t 0.021052422001957893\n",
      "Test set \t 0.993\n",
      "14 \t 0.022053474560379982\n",
      "Test set \t 0.993\n",
      "15 \t 0.018207136541604996\n",
      "Test set \t 0.993\n",
      "16 \t 0.017679264768958092\n",
      "Test set \t 0.989\n",
      "17 \t 0.02370826154947281\n",
      "Test set \t 0.989\n",
      "18 \t 0.02704772911965847\n",
      "Test set \t 0.991\n",
      "19 \t 0.040121354162693024\n",
      "Test set \t 0.988\n",
      "20 \t 0.015256193466484547\n",
      "Test set \t 0.992\n"
     ]
    }
   ],
   "source": [
    "opt = optim.SGD(model.parameters(), lr=1)\n",
    "opt_2 = optim.Adam(model.parameters(), lr=0.01)\n",
    "epochs = 20\n",
    "batch_size = 600\n",
    "learning_rate = 1\n",
    "decay = 0.1\n",
    "\n",
    "model.fit(opt_2,epochs,batch_size,learning_rate,decay)"
   ]
  },
  {
   "cell_type": "markdown",
   "metadata": {},
   "source": [
    "###### Load, Preprocess and predict test set from Kaggle"
   ]
  },
  {
   "cell_type": "code",
   "execution_count": 104,
   "metadata": {},
   "outputs": [],
   "source": [
    "#Load data from CSV\n",
    "test = pd.read_csv('../data/MNIST/test.csv')\n",
    "test_tensor = torch.tensor(test.values)\n",
    "\n",
    "#Preprocess\n",
    "test_tensor = (test_tensor.to(dtype=torch.float32) / test_tensor.max().to(dtype=torch.float32))\n",
    "test_tensor = test_tensor.reshape(test_tensor.shape[0],1,28,28)\n",
    "\n",
    "#Predict\n",
    "test_tensor = model.forward(test_tensor)\n",
    "test_tensor = test_tensor.argmax(1)"
   ]
  },
  {
   "cell_type": "markdown",
   "metadata": {},
   "source": [
    "##### Save predictions to a csv file"
   ]
  },
  {
   "cell_type": "code",
   "execution_count": 111,
   "metadata": {},
   "outputs": [],
   "source": [
    "#Convert to a numpy array\n",
    "arr = test_tensor.numpy()\n",
    "\n",
    "# write CSV\n",
    "np.savetxt('../data/MNIST/predictions.csv', arr)"
   ]
  },
  {
   "cell_type": "code",
   "execution_count": null,
   "metadata": {},
   "outputs": [],
   "source": []
  }
 ],
 "metadata": {
  "kernelspec": {
   "display_name": "Python 3",
   "language": "python",
   "name": "python3"
  },
  "language_info": {
   "codemirror_mode": {
    "name": "ipython",
    "version": 3
   },
   "file_extension": ".py",
   "mimetype": "text/x-python",
   "name": "python",
   "nbconvert_exporter": "python",
   "pygments_lexer": "ipython3",
   "version": "3.6.6"
  }
 },
 "nbformat": 4,
 "nbformat_minor": 2
}
